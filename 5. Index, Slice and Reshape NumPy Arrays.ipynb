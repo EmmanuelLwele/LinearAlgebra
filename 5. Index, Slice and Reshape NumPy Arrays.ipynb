{
 "cells": [
  {
   "cell_type": "code",
   "execution_count": 9,
   "metadata": {},
   "outputs": [
    {
     "name": "stdout",
     "output_type": "stream",
     "text": [
      "[11 22 33 44 55]\n",
      "<class 'numpy.ndarray'>\n"
     ]
    }
   ],
   "source": [
    "# 5.2.1 One-Dimensional List to Array\n",
    "# create one-dimnentional array\n",
    "from numpy import array\n",
    "# list of data\n",
    "data = [11,22,33,44,55]\n",
    "# array or data\n",
    "data = array(data)\n",
    "print(data)\n",
    "print(type(data))"
   ]
  },
  {
   "cell_type": "code",
   "execution_count": 10,
   "metadata": {},
   "outputs": [
    {
     "name": "stdout",
     "output_type": "stream",
     "text": [
      "[[11 22]\n",
      " [33 44]\n",
      " [55 66]]\n",
      "<class 'numpy.ndarray'>\n"
     ]
    }
   ],
   "source": [
    "# 5.2.2 Two-Dimensional List of Lists to Array\n",
    "# create two-dimensional array\n",
    "from numpy import array\n",
    "# list of data\n",
    "data = [[11,22],\n",
    "       [33,44],\n",
    "       [55,66]]\n",
    "# array of data\n",
    "data = array(data)\n",
    "print(data)\n",
    "print(type(data))"
   ]
  },
  {
   "cell_type": "code",
   "execution_count": 11,
   "metadata": {},
   "outputs": [
    {
     "name": "stdout",
     "output_type": "stream",
     "text": [
      "11\n",
      "55\n",
      "55\n",
      "11\n"
     ]
    }
   ],
   "source": [
    "# 5.3.1 One-Dimensional Indexing\n",
    "# index a one-dimensional array\n",
    "from numpy import array\n",
    "# define array\n",
    "data = array([11,22,33,44,55])\n",
    "# index data\n",
    "print(data[0])\n",
    "print(data[4])\n",
    "# print(data[5]) # value is too large for the bound of array\n",
    "'''IndexError: index 5 is out of bounds for axis 0 with size 5'''\n",
    "\n",
    "# negative array indexing\n",
    "print(data[-1])\n",
    "print(data[-5])"
   ]
  },
  {
   "cell_type": "code",
   "execution_count": 12,
   "metadata": {},
   "outputs": [
    {
     "name": "stdout",
     "output_type": "stream",
     "text": [
      "11\n",
      "[11 22]\n"
     ]
    }
   ],
   "source": [
    "# 5.3.2 Two-Dimensional Indexing\n",
    "# index two-dimensional array\n",
    "from numpy import array\n",
    "# define array\n",
    "data = array([[11,22],\n",
    "             [33,44],\n",
    "             [55,66]])\n",
    "# index data\n",
    "print(data[0,0])\n",
    "\n",
    "# If we are interested in all items in the first row, we could leave the second dimension index\n",
    "# empty\n",
    "print(data[0])"
   ]
  },
  {
   "cell_type": "code",
   "execution_count": 13,
   "metadata": {},
   "outputs": [
    {
     "name": "stdout",
     "output_type": "stream",
     "text": [
      "[11 22 33 44 55]\n",
      "[11]\n",
      "[44 55]\n",
      "\n",
      " [[11 22]\n",
      " [44 55]\n",
      " [77 88]]\n",
      "[33 66 99] \n",
      "\n",
      "[[11 22 33]\n",
      " [44 55 66]] [[77 88 99]]\n"
     ]
    }
   ],
   "source": [
    "# 5.4.1 One-Dimensional Slicing\n",
    "# The slice extends from the from index and ends one item before the to index.\n",
    "# slice a one-dimensional array\n",
    "from numpy import array\n",
    "# define array\n",
    "data = array([11,22,33,44,55])\n",
    "print(data[:]) # => print all elements\n",
    "\n",
    "# slice a subset of a one-dimensional array\n",
    "print(data[0:1])\n",
    "\n",
    "# negative slicing of a one-dimensional array\n",
    "print(data[-2:])\n",
    "\n",
    "# split input and output data\n",
    "# define array\n",
    "data = array([[11,22,33],\n",
    "             [44,55,66],\n",
    "             [77,88,99]])\n",
    "# seperate data\n",
    "X, y = data[:, :-1], data[:, -1]\n",
    "print('\\n',X)\n",
    "print(y,'\\n')\n",
    "\n",
    "# split train and test data\n",
    "from numpy import array\n",
    "# seperate data\n",
    "split = 2\n",
    "train, test = data[:split,:], data[split:,:]\n",
    "print(train, test)"
   ]
  },
  {
   "cell_type": "code",
   "execution_count": 21,
   "metadata": {},
   "outputs": [
    {
     "name": "stdout",
     "output_type": "stream",
     "text": [
      "(5,)\n",
      "(3, 2)\n",
      "Rows: 3\n",
      "Columns: 2\n"
     ]
    }
   ],
   "source": [
    "# 5.5.1 Data Shape\n",
    "# shape of one-dimensional array\n",
    "from numpy import array\n",
    "# define array\n",
    "data = array([11,22,33,44,55])\n",
    "print(data.shape)\n",
    "\n",
    "# shape of two-dimensional array\n",
    "data = array([[11,22],\n",
    "            [33,44],\n",
    "            [55,66]])\n",
    "print(data.shape)\n",
    "\n",
    "# row and column shape of two-dimensional array\n",
    "# list of data\n",
    "data = [[11,22],\n",
    "       [33,44],\n",
    "       [55,66]]\n",
    "# array of data\n",
    "data = array(data)\n",
    "print('Rows: %d' % data.shape[0])\n",
    "print('Columns: %d' % data.shape[1])"
   ]
  },
  {
   "cell_type": "code",
   "execution_count": 26,
   "metadata": {},
   "outputs": [
    {
     "name": "stdout",
     "output_type": "stream",
     "text": [
      "(5,) \n",
      "\n",
      "(5, 1)\n"
     ]
    }
   ],
   "source": [
    "# 5.5.2 Reshape 1D to 2D Array\n",
    "# reshape 1D array to 2D\n",
    "from numpy import array\n",
    "# define array\n",
    "data = array([11,22,33,44,55])\n",
    "print(data.shape,'\\n')\n",
    "\n",
    "# reshape\n",
    "data = data.reshape(data.shape[0],1)\n",
    "print(data.shape)"
   ]
  },
  {
   "cell_type": "code",
   "execution_count": 28,
   "metadata": {},
   "outputs": [
    {
     "name": "stdout",
     "output_type": "stream",
     "text": [
      "(3, 2)\n",
      "(3, 2, 1)\n"
     ]
    }
   ],
   "source": [
    "# 5.5.3 Reshape 2D to 3D Array\n",
    "# reshape 2D array to 3D\n",
    "from numpy import array\n",
    "# list of data\n",
    "data = [[11,22],\n",
    "       [33,44],\n",
    "       [55,66]]\n",
    "# array of data\n",
    "data = array(data)\n",
    "print(data.shape)\n",
    "\n",
    "# reshape\n",
    "data = data.reshape(data.shape[0], data.shape[1],1)\n",
    "print(data.shape)"
   ]
  },
  {
   "cell_type": "code",
   "execution_count": 48,
   "metadata": {},
   "outputs": [
    {
     "name": "stdout",
     "output_type": "stream",
     "text": [
      "[[  10  100 1000]\n",
      " [  20  200 2000]\n",
      " [  30  300 3000]\n",
      " [  40  400 4000]\n",
      " [  50  500 5000]]\n",
      "\n",
      " [  10  100 1000]\n",
      "[  10  100 1000]\n",
      "[  50  500 5000]\n",
      "50\n",
      "[1000 2000 3000 4000 5000] [100 200 300 400 500]\n",
      "[[  10  100 1000]\n",
      " [  20  200 2000]] \n",
      " [[  30  300 3000]\n",
      " [  40  400 4000]\n",
      " [  50  500 5000]]\n"
     ]
    }
   ],
   "source": [
    "'''5.6 Extensions\n",
    "This section lists some ideas for extending the tutorial that you may wish to explore.\n",
    " Develop one example of indexing, slicing and reshaping your own small data arrays.\n",
    " Load a small real dataset from CSV file and split it into input and output elements\n",
    " Load a small real dataset from CSV file and split it into train and test elements.'''\n",
    "from numpy import array\n",
    "data = [[10,100,1000],[20,200,2000],[30,300,3000],[40,400,4000],[50,500,5000]]\n",
    "data = array(data)\n",
    "print(data)\n",
    "\n",
    "# indexing \n",
    "print('\\n',data[0])\n",
    "print(data[-5])\n",
    "print(data[-1])\n",
    "print(data[-1][0])\n",
    "\n",
    "#  Load a small real dataset from CSV file and split it into input and output elements\n",
    "\n",
    "import pandas as pd\n",
    "\n",
    "url = '../pyTutes/datasets/suv_predictions.csv'\n",
    "names = ['User ID', 'Gender', 'Age', 'Estimated Salary', 'Purchased']\n",
    "dataset = pd.read_csv(url, names = names)\n",
    "\n",
    "# seperate data\n",
    "X, y = data[:,-1], data[:,1]\n",
    "print(X, y)\n",
    "\n",
    "# split train and test data\n",
    "split = 2\n",
    "train, test = data[:split, :], data[split:, :]\n",
    "print(train,'\\n', test)"
   ]
  },
  {
   "cell_type": "code",
   "execution_count": null,
   "metadata": {},
   "outputs": [],
   "source": []
  }
 ],
 "metadata": {
  "kernelspec": {
   "display_name": "Python 3",
   "language": "python",
   "name": "python3"
  },
  "language_info": {
   "codemirror_mode": {
    "name": "ipython",
    "version": 3
   },
   "file_extension": ".py",
   "mimetype": "text/x-python",
   "name": "python",
   "nbconvert_exporter": "python",
   "pygments_lexer": "ipython3",
   "version": "3.7.4"
  }
 },
 "nbformat": 4,
 "nbformat_minor": 2
}
