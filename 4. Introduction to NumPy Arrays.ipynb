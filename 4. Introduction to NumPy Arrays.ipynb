{
 "cells": [
  {
   "cell_type": "code",
   "execution_count": 6,
   "metadata": {},
   "outputs": [
    {
     "name": "stdout",
     "output_type": "stream",
     "text": [
      "[1. 2. 3.]\n",
      "(3,)\n",
      "float64\n"
     ]
    }
   ],
   "source": [
    "# 4.2 NumPy N-dimensional Array\n",
    "# create array\n",
    "from numpy import array\n",
    "\n",
    "# create array\n",
    "l = [1.0,2.0,3.0]\n",
    "a = array(l)\n",
    "\n",
    "# display array\n",
    "print(a)\n",
    "\n",
    "# display array shape\n",
    "print(a.shape)\n",
    "\n",
    "# display array data type\n",
    "print(a.dtype)"
   ]
  },
  {
   "cell_type": "code",
   "execution_count": 13,
   "metadata": {},
   "outputs": [
    {
     "name": "stdout",
     "output_type": "stream",
     "text": [
      "[[-2.31584178e+077 -2.31584178e+077  5.43472210e-323]\n",
      " [ 0.00000000e+000  0.00000000e+000  0.00000000e+000]\n",
      " [ 0.00000000e+000  0.00000000e+000  0.00000000e+000]]\n",
      "[[0. 0. 0. 0. 0.]\n",
      " [0. 0. 0. 0. 0.]\n",
      " [0. 0. 0. 0. 0.]]\n",
      "[[1. 1. 1. 1. 1.]]\n"
     ]
    }
   ],
   "source": [
    "# 4.3 Functions to Create Arrays\n",
    "# create empty array\n",
    "from numpy import empty\n",
    "a = empty([3,3])\n",
    "print(a)\n",
    "\n",
    "# create zeros array\n",
    "from numpy import zeros\n",
    "a = zeros([3,5])\n",
    "print(a)\n",
    "\n",
    "# create ones array\n",
    "from numpy import ones\n",
    "a = ones([1,5])\n",
    "print(a)"
   ]
  },
  {
   "cell_type": "code",
   "execution_count": 19,
   "metadata": {},
   "outputs": [
    {
     "name": "stdout",
     "output_type": "stream",
     "text": [
      "[[1 2 3]\n",
      " [4 5 6]]\n",
      "(2, 3)\n",
      "[1 2 3 4 5 6]\n",
      "(6,)\n"
     ]
    }
   ],
   "source": [
    "# 4.4 Combining Arrays\n",
    "# create array with vstack\n",
    "from numpy import array\n",
    "from numpy import vstack\n",
    "\n",
    "# create first array\n",
    "a = [1,2,3]\n",
    "b = [4,5,6]\n",
    "\n",
    "c = vstack([a, b])\n",
    "print(c)\n",
    "print(c.shape)\n",
    "\n",
    "# create array with hstack\n",
    "from numpy import array\n",
    "from numpy import hstack\n",
    "\n",
    "a = [1,2,3]\n",
    "b = [4,5,6]\n",
    "\n",
    "c = hstack([a, b])\n",
    "print(c)\n",
    "print(c.shape)"
   ]
  },
  {
   "cell_type": "code",
   "execution_count": 59,
   "metadata": {},
   "outputs": [
    {
     "name": "stdout",
     "output_type": "stream",
     "text": [
      "[[ 1  2  3  4  5]\n",
      " [ 6  7  8  9 10]]\n",
      "[[1 1 1 1 1]\n",
      " [1 1 1 1 1]]\n",
      "[[0 0 0 0 0]\n",
      " [0 0 0 0 0]]\n",
      "[[5.73021895e-300 3.76505858e-047]]\n",
      "[[10 10 10 10 10]\n",
      " [10 10 10 10 10]\n",
      " [10 10 10 10 10]\n",
      " [10 10 10 10 10]\n",
      " [10 10 10 10 10]]\n"
     ]
    }
   ],
   "source": [
    "# 4.5 Extensions\n",
    "'''This section lists some ideas for extending the tutorial that you may wish to explore.\n",
    " Experiment with the different ways of creating arrays to your own sizes or with new data.\n",
    " Locate and develop an example for 3 additional NumPy functions for creating arrays.\n",
    " Locate and develop an example for 3 additional NumPy functions for combining arrays.\n",
    "If you explore any of these extensions, I’d love to know.'''\n",
    "\n",
    "# Experiment with the different ways of creating arrays to your own sizes or with new data.\n",
    "a = [1,2,3,4,5]\n",
    "b = [6,7,8,9,10]\n",
    "\n",
    "from numpy import empty_like\n",
    "c = empty_like([a, b])\n",
    "print(c)\n",
    "\n",
    "from numpy import ones_like\n",
    "d = ones_like([a, b])\n",
    "print(d)\n",
    "\n",
    "from numpy import zeros_like\n",
    "e = zeros_like([a, b])\n",
    "print(e)\n",
    "\n",
    "from numpy import empty\n",
    "f = empty([1,2])\n",
    "print(f)\n",
    "\n",
    "from numpy import full\n",
    "g = full((5, 5), 10)\n",
    "print(g)"
   ]
  },
  {
   "cell_type": "code",
   "execution_count": null,
   "metadata": {},
   "outputs": [],
   "source": []
  }
 ],
 "metadata": {
  "kernelspec": {
   "display_name": "Python 3",
   "language": "python",
   "name": "python3"
  },
  "language_info": {
   "codemirror_mode": {
    "name": "ipython",
    "version": 3
   },
   "file_extension": ".py",
   "mimetype": "text/x-python",
   "name": "python",
   "nbconvert_exporter": "python",
   "pygments_lexer": "ipython3",
   "version": "3.7.4"
  }
 },
 "nbformat": 4,
 "nbformat_minor": 2
}
