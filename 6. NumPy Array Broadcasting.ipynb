{
 "cells": [
  {
   "cell_type": "code",
   "execution_count": 10,
   "metadata": {},
   "outputs": [
    {
     "name": "stdout",
     "output_type": "stream",
     "text": [
      "[1 2 3]\n",
      "2\n",
      "[3 4 5] \n",
      "\n",
      "[[1 2 3]\n",
      " [1 2 3]]\n",
      "2\n",
      "[[3 4 5]\n",
      " [3 4 5]]\n",
      "[[1 2 3]\n",
      " [1 2 3]]\n",
      "[[2 4 6]\n",
      " [2 4 6]]\n"
     ]
    }
   ],
   "source": [
    "# 6.4.1 Scalar and One-Dimensional Array\n",
    "# broadcast scalar to 1D array\n",
    "from numpy import array\n",
    "# define array\n",
    "a = array([1,2,3])\n",
    "print(a)\n",
    "\n",
    "# define scalar\n",
    "b = 2\n",
    "print(b)\n",
    "\n",
    "# broadcast \n",
    "c = a + b\n",
    "print(c, '\\n')\n",
    "\n",
    "# broadcast scalar to 2D array\n",
    "from numpy import array\n",
    "# define array\n",
    "A = array([[1,2,3],\n",
    "         [1,2,3]])\n",
    "print(A)\n",
    "\n",
    "# define scalar\n",
    "b = 2\n",
    "print(b)\n",
    "\n",
    "# broadcast\n",
    "c = A + b\n",
    "print(c)\n",
    "\n",
    "# broadcast 1D array to 2D array\n",
    "from numpy import array\n",
    "# define 2D array\n",
    "A = array([[1,2,3],\n",
    "          [1,2,3]])\n",
    "print(A)\n",
    "\n",
    "# define 1D array\n",
    "b = array([1,2,3])\n",
    "\n",
    "# broadcast\n",
    "C =  A + b\n",
    "print(C)"
   ]
  },
  {
   "cell_type": "code",
   "execution_count": 15,
   "metadata": {},
   "outputs": [
    {
     "name": "stdout",
     "output_type": "stream",
     "text": [
      "(2, 3)\n",
      "(2,)\n"
     ]
    },
    {
     "ename": "ValueError",
     "evalue": "operands could not be broadcast together with shapes (2,3) (2,) ",
     "output_type": "error",
     "traceback": [
      "\u001b[0;31m---------------------------------------------------------------------------\u001b[0m",
      "\u001b[0;31mValueError\u001b[0m                                Traceback (most recent call last)",
      "\u001b[0;32m<ipython-input-15-ac135c59c920>\u001b[0m in \u001b[0;36m<module>\u001b[0;34m\u001b[0m\n\u001b[1;32m     12\u001b[0m \u001b[0;34m\u001b[0m\u001b[0m\n\u001b[1;32m     13\u001b[0m \u001b[0;31m# attempt to broadcast\u001b[0m\u001b[0;34m\u001b[0m\u001b[0;34m\u001b[0m\u001b[0;34m\u001b[0m\u001b[0m\n\u001b[0;32m---> 14\u001b[0;31m \u001b[0mC\u001b[0m \u001b[0;34m=\u001b[0m \u001b[0mA\u001b[0m \u001b[0;34m+\u001b[0m \u001b[0mb\u001b[0m\u001b[0;34m\u001b[0m\u001b[0;34m\u001b[0m\u001b[0m\n\u001b[0m\u001b[1;32m     15\u001b[0m \u001b[0mprint\u001b[0m\u001b[0;34m(\u001b[0m\u001b[0mC\u001b[0m\u001b[0;34m)\u001b[0m\u001b[0;34m\u001b[0m\u001b[0;34m\u001b[0m\u001b[0m\n",
      "\u001b[0;31mValueError\u001b[0m: operands could not be broadcast together with shapes (2,3) (2,) "
     ]
    }
   ],
   "source": [
    "# 6.5 Limitations of Broadcasting\n",
    "# broadcasting error\n",
    "from numpy import array\n",
    "# define 2D array\n",
    "A = array([[1,2,3],\n",
    "         [1,2,3]])\n",
    "print(A.shape)\n",
    "\n",
    "# define 1D array\n",
    "b = array([1,2])\n",
    "print(b.shape)\n",
    "\n",
    "# attempt to broadcast\n",
    "C = A + b\n",
    "print(C)"
   ]
  },
  {
   "cell_type": "code",
   "execution_count": 19,
   "metadata": {},
   "outputs": [
    {
     "name": "stdout",
     "output_type": "stream",
     "text": [
      "[[111.1 222.1 333.1 444.1]\n",
      " [555.1 666.1 777.1 888.1]]\n",
      "[[ 11  22  33  44]\n",
      " [ 51  62  73  84]\n",
      " [ 91 102 113 124]]\n"
     ]
    },
    {
     "ename": "ValueError",
     "evalue": "operands could not be broadcast together with shapes (3,4) (2,4) ",
     "output_type": "error",
     "traceback": [
      "\u001b[0;31m---------------------------------------------------------------------------\u001b[0m",
      "\u001b[0;31mValueError\u001b[0m                                Traceback (most recent call last)",
      "\u001b[0;32m<ipython-input-19-4c3dd3c6220a>\u001b[0m in \u001b[0;36m<module>\u001b[0;34m\u001b[0m\n\u001b[1;32m     42\u001b[0m          [1,2,3,4]])\n\u001b[1;32m     43\u001b[0m \u001b[0;34m\u001b[0m\u001b[0m\n\u001b[0;32m---> 44\u001b[0;31m \u001b[0mC\u001b[0m \u001b[0;34m=\u001b[0m \u001b[0mA\u001b[0m \u001b[0;34m+\u001b[0m \u001b[0mb\u001b[0m\u001b[0;34m\u001b[0m\u001b[0;34m\u001b[0m\u001b[0m\n\u001b[0m\u001b[1;32m     45\u001b[0m \u001b[0mprint\u001b[0m\u001b[0;34m(\u001b[0m\u001b[0mC\u001b[0m\u001b[0;34m)\u001b[0m\u001b[0;34m\u001b[0m\u001b[0;34m\u001b[0m\u001b[0m\n",
      "\u001b[0;31mValueError\u001b[0m: operands could not be broadcast together with shapes (3,4) (2,4) "
     ]
    }
   ],
   "source": [
    "'''6.6 Extensions\n",
    "This section lists some ideas for extending the tutorial that you may wish to explore.\n",
    " Create three new and different examples of broadcasting with NumPy arrays.\n",
    " Implement your own broadcasting function for manually broadcasting in one and twodimensional cases.\n",
    " Benchmark NumPy broadcasting and your own custom broadcasting functions with one\n",
    "and two dimensional cases with very large arrays.'''\n",
    "\n",
    "from numpy import array\n",
    "\n",
    "# define 2D array\n",
    "A = array([[111,222,333,444],\n",
    "         [555,666,777,888]])\n",
    "\n",
    "#define scalar\n",
    "b = 0.1\n",
    "\n",
    "# broadcast\n",
    "C = A + b\n",
    "print(C)\n",
    "\n",
    "# ----------------\n",
    "\n",
    "# define 3D array\n",
    "A = array([[10,20,30,40],\n",
    "    [50,60,70,80],\n",
    "    [90,100,110,120]])\n",
    "# define 1D array\n",
    "b = array([1,2,3,4])\n",
    "\n",
    "# broadcast\n",
    "C = A + b\n",
    "print(C)\n",
    "\n",
    "# ----------------\n",
    "\n",
    "# define 3D array\n",
    "A = array([[0.1,0.2,0.3,0.4],\n",
    "         [0.5,0.6,0.7,0.8],\n",
    "         [0.9,1.0,1.1,1.2]])\n",
    "# define 2D array\n",
    "b = array([[1,2,3,4],\n",
    "         [1,2,3,4]])\n",
    "\n",
    "C = A + b\n",
    "print(C)"
   ]
  },
  {
   "cell_type": "code",
   "execution_count": null,
   "metadata": {},
   "outputs": [],
   "source": []
  }
 ],
 "metadata": {
  "kernelspec": {
   "display_name": "Python 3",
   "language": "python",
   "name": "python3"
  },
  "language_info": {
   "codemirror_mode": {
    "name": "ipython",
    "version": 3
   },
   "file_extension": ".py",
   "mimetype": "text/x-python",
   "name": "python",
   "nbconvert_exporter": "python",
   "pygments_lexer": "ipython3",
   "version": "3.7.4"
  }
 },
 "nbformat": 4,
 "nbformat_minor": 2
}
