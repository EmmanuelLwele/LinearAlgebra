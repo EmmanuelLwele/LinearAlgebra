{
 "cells": [
  {
   "cell_type": "code",
   "execution_count": 130,
   "metadata": {},
   "outputs": [
    {
     "name": "stdout",
     "output_type": "stream",
     "text": [
      "[1 2 3 4 5 6]\n",
      "3.5\n"
     ]
    }
   ],
   "source": [
    "# vector mean\n",
    "from numpy import array\n",
    "from numpy import mean\n",
    "\n",
    "# define vector\n",
    "v = array([1,2,3,4,5,6])\n",
    "print(v)\n",
    "\n",
    "# calculate mean\n",
    "result = mean(v)\n",
    "print(result)"
   ]
  },
  {
   "cell_type": "code",
   "execution_count": 131,
   "metadata": {},
   "outputs": [
    {
     "name": "stdout",
     "output_type": "stream",
     "text": [
      "[[1 2 3 4 5 6]\n",
      " [1 2 3 4 5 6]]\n",
      "[1. 2. 3. 4. 5. 6.]\n",
      "[3.5 3.5]\n"
     ]
    }
   ],
   "source": [
    "# matrix means\n",
    "from numpy import array\n",
    "from numpy import mean\n",
    "\n",
    "# define matrix\n",
    "M = array([\n",
    "    [1,2,3,4,5,6],\n",
    "    [1,2,3,4,5,6]\n",
    "])\n",
    "print(M)\n",
    "\n",
    "# col means\n",
    "col_meacn = mean(M, axis=0)\n",
    "print(col_mean)\n",
    "\n",
    "# row means\n",
    "row_mean = mean(M, axis=1)\n",
    "print(row_mean)"
   ]
  },
  {
   "cell_type": "code",
   "execution_count": 132,
   "metadata": {},
   "outputs": [
    {
     "name": "stdout",
     "output_type": "stream",
     "text": [
      "[1 2 3 4 5 6]\n",
      "2.9166666666666665\n",
      "3.5\n"
     ]
    }
   ],
   "source": [
    "# vector variance\n",
    "from numpy import array\n",
    "from numpy import var\n",
    "\n",
    "# define vector\n",
    "v = array([1,2,3,4,5,6])\n",
    "print(v)\n",
    "\n",
    "# population variance\n",
    "result = var(v)\n",
    "print(result)\n",
    "\n",
    "# sample variance\n",
    "result = var(v, ddof=1)\n",
    "print(result)"
   ]
  },
  {
   "cell_type": "code",
   "execution_count": 133,
   "metadata": {},
   "outputs": [
    {
     "name": "stdout",
     "output_type": "stream",
     "text": [
      "[[1 2 3 4 5 6]\n",
      " [1 2 3 4 5 6]]\n",
      "[0. 0. 0. 0. 0. 0.]\n",
      "[3.5 3.5]\n"
     ]
    }
   ],
   "source": [
    "# matrix variances\n",
    "from numpy import array\n",
    "from numpy import var\n",
    "\n",
    "# define matrix\n",
    "M = array([\n",
    "    [1,2,3,4,5,6],\n",
    "    [1,2,3,4,5,6]\n",
    "])\n",
    "print(M)\n",
    "\n",
    "# col variance\n",
    "col_variance = var(M, ddof=1, axis=0)\n",
    "print(col_variance)\n",
    "\n",
    "# row variance\n",
    "row_variance = var(M, ddof=1, axis=1)\n",
    "print(row_variance)"
   ]
  },
  {
   "cell_type": "code",
   "execution_count": 134,
   "metadata": {},
   "outputs": [
    {
     "name": "stdout",
     "output_type": "stream",
     "text": [
      "[0. 0. 0. 0. 0. 0.]\n",
      "[1.87082869 1.87082869]\n"
     ]
    }
   ],
   "source": [
    "# matrix standard deviation\n",
    "from numpy import array\n",
    "from numpy import std\n",
    "\n",
    "# define matrix\n",
    "M = array([\n",
    "    [1,2,3,4,5,6],\n",
    "    [1,2,3,4,5,6]\n",
    "])\n",
    "\n",
    "# col std\n",
    "col_std = std(M, ddof=1, axis=0)\n",
    "print(col_std)\n",
    "\n",
    "# row std\n",
    "row_std = std(M, ddof=1, axis=1)\n",
    "print(row_std)"
   ]
  },
  {
   "cell_type": "code",
   "execution_count": 135,
   "metadata": {},
   "outputs": [
    {
     "name": "stdout",
     "output_type": "stream",
     "text": [
      "[1 2 3 4 5 6 7 8 9]\n",
      "[9 8 7 6 5 4 3 2 1]\n",
      "-7.5\n"
     ]
    }
   ],
   "source": [
    "# vector covariance\n",
    "from numpy import array\n",
    "from numpy import cov\n",
    "\n",
    "# define first vector\n",
    "x = array([1,2,3,4,5,6,7,8,9])\n",
    "print(x)\n",
    "\n",
    "# define second vector\n",
    "y = array([9,8,7,6,5,4,3,2,1])\n",
    "print(y)\n",
    "\n",
    "# calculate covariance\n",
    "Sigma = cov(x, y)[0,1]\n",
    "print(Sigma)"
   ]
  },
  {
   "cell_type": "code",
   "execution_count": 136,
   "metadata": {},
   "outputs": [
    {
     "name": "stdout",
     "output_type": "stream",
     "text": [
      "[1 2 3 4 5 6 7 8 9]\n",
      "[9 8 7 6 5 4 3 2 1]\n",
      "-1.0\n"
     ]
    }
   ],
   "source": [
    "# vector correlation\n",
    "from numpy import array\n",
    "from numpy import corrcoef\n",
    "\n",
    "# define first vector\n",
    "x = array([1,2,3,4,5,6,7,8,9])\n",
    "print(x)\n",
    "\n",
    "# define second vector\n",
    "y = array([9,8,7,6,5,4,3,2,1])\n",
    "print(y)\n",
    "\n",
    "# calculate correlation\n",
    "corr = corrcoef(x, y)[0,1]\n",
    "print(corr)"
   ]
  },
  {
   "cell_type": "code",
   "execution_count": 137,
   "metadata": {},
   "outputs": [
    {
     "name": "stdout",
     "output_type": "stream",
     "text": [
      "[[ 1  5  8]\n",
      " [ 3  5 11]\n",
      " [ 2  4  9]\n",
      " [ 3  6 10]\n",
      " [ 1  5 10]]\n",
      "[[1.   0.25 0.75]\n",
      " [0.25 0.5  0.25]\n",
      " [0.75 0.25 1.3 ]]\n"
     ]
    }
   ],
   "source": [
    "# covariance matrix\n",
    "from numpy import array\n",
    "from numpy import cov\n",
    "\n",
    "# define matrix of observations\n",
    "X = array([\n",
    "    [1,5,8],\n",
    "    [3,5,11],\n",
    "    [2,4,9],\n",
    "    [3,6,10],\n",
    "    [1,5,10]\n",
    "])\n",
    "print(X)\n",
    "\n",
    "# calculate covariance matrix\n",
    "Sigma = cov(X.T)\n",
    "print(Sigma)"
   ]
  },
  {
   "cell_type": "code",
   "execution_count": 138,
   "metadata": {},
   "outputs": [
    {
     "name": "stdout",
     "output_type": "stream",
     "text": [
      "9.0\n",
      "[ 17.  34.  68. 135.]\n",
      "[  7.5 119.5]\n",
      "84933.33333333333\n",
      "[0. 0. 0. 0.]\n",
      "[38.33333333 38.33333333]\n",
      "[38.89087297 23.33452378  7.77817459  7.77817459 23.33452378 38.89087297]\n",
      "[18.7860764 18.7860764]\n",
      "-26278.933333333334\n",
      "-0.6975522743038352\n",
      "[[110889. 110889. 110889.]\n",
      " [110889. 110889. 110889.]\n",
      " [110889. 110889. 110889.]]\n"
     ]
    }
   ],
   "source": [
    "'''17.6 Extensions\n",
    "This section lists some ideas for extending the tutorial that you may wish to explore.\n",
    " Explore each example using your own small contrived array data.\n",
    " Load data from a CSV file and apply each operation to the data columns.\n",
    " Write your own functions to implement each statistical operation'''\n",
    "\n",
    "# calculate vector mean\n",
    "A = array([2,4,6,8,10,12,14,16])\n",
    "print(mean(A))\n",
    "\n",
    "# calculate matrix mean\n",
    "M = array([[2,4,8,16],\n",
    "         [32,64,128,254]])\n",
    "\n",
    "# col mean\n",
    "print(mean(M, axis=0))\n",
    "\n",
    "# row mean\n",
    "print(mean(M, axis=1))\n",
    "\n",
    "# vector variance\n",
    "V = array([5,25,125,625])\n",
    "print(var(V, ddof=1)) # population variance\n",
    "\n",
    "# matrix variance\n",
    "A = array([\n",
    "    [2,4,8,16],\n",
    "    [2,4,8,16]\n",
    "])\n",
    "# col variance\n",
    "print(var(A, axis=0, ddof=1))\n",
    "\n",
    "# row variance\n",
    "print(var(A, axis=1, ddof=1))\n",
    "\n",
    "# matrix std\n",
    "A = array([\n",
    "    [11,22,33,44,55,66],\n",
    "    [66,55,44,33,22,11]\n",
    "])\n",
    "\n",
    "# col std\n",
    "print(std(A, axis=0, ddof=1))\n",
    "\n",
    "# row std\n",
    "print(std(A, axis=1, ddof=0))\n",
    "\n",
    "\n",
    "# vector covariance\n",
    "X = array([4,16,64,128,256,512])\n",
    "Y = array([512,256,128,64,16,4])\n",
    "\n",
    "Sigma = cov(X,Y)[0,1]\n",
    "print(Sigma)\n",
    "\n",
    "# vector correlation \n",
    "Sigma = corrcoef(X,Y)[0,1]\n",
    "print(Sigma)\n",
    "\n",
    "# matrix covariance\n",
    "M = array([[999,888,777],\n",
    "         [666,555,444],\n",
    "         [333,222,111]])\n",
    "\n",
    "Sigma = cov(M.T)\n",
    "print(Sigma)"
   ]
  },
  {
   "cell_type": "code",
   "execution_count": 175,
   "metadata": {},
   "outputs": [
    {
     "data": {
      "text/html": [
       "<div>\n",
       "<style scoped>\n",
       "    .dataframe tbody tr th:only-of-type {\n",
       "        vertical-align: middle;\n",
       "    }\n",
       "\n",
       "    .dataframe tbody tr th {\n",
       "        vertical-align: top;\n",
       "    }\n",
       "\n",
       "    .dataframe thead th {\n",
       "        text-align: right;\n",
       "    }\n",
       "</style>\n",
       "<table border=\"1\" class=\"dataframe\">\n",
       "  <thead>\n",
       "    <tr style=\"text-align: right;\">\n",
       "      <th></th>\n",
       "      <th>col1</th>\n",
       "      <th>col2</th>\n",
       "      <th>col3</th>\n",
       "      <th>col4</th>\n",
       "      <th>col5</th>\n",
       "      <th>col6</th>\n",
       "    </tr>\n",
       "  </thead>\n",
       "  <tbody>\n",
       "    <tr>\n",
       "      <td>0</td>\n",
       "      <td>10</td>\n",
       "      <td>20</td>\n",
       "      <td>30</td>\n",
       "      <td>40</td>\n",
       "      <td>50</td>\n",
       "      <td>60</td>\n",
       "    </tr>\n",
       "    <tr>\n",
       "      <td>1</td>\n",
       "      <td>60</td>\n",
       "      <td>50</td>\n",
       "      <td>40</td>\n",
       "      <td>30</td>\n",
       "      <td>20</td>\n",
       "      <td>10</td>\n",
       "    </tr>\n",
       "  </tbody>\n",
       "</table>\n",
       "</div>"
      ],
      "text/plain": [
       "   col1  col2  col3  col4  col5  col6\n",
       "0    10    20    30    40    50    60\n",
       "1    60    50    40    30    20    10"
      ]
     },
     "execution_count": 175,
     "metadata": {},
     "output_type": "execute_result"
    }
   ],
   "source": [
    "# Load data from a CSV file and apply each operation to the data columns.\n",
    "url = 'ex17.csv'\n",
    "names = ['col1', 'col2', 'col3', 'col4', 'col5', 'col6']\n",
    "dataset = pd.read_csv(url, names=names)\n",
    "dataset.head()"
   ]
  },
  {
   "cell_type": "code",
   "execution_count": 176,
   "metadata": {},
   "outputs": [
    {
     "name": "stdout",
     "output_type": "stream",
     "text": [
      "col1    35.0\n",
      "col2    35.0\n",
      "col3    35.0\n",
      "col4    35.0\n",
      "col5    35.0\n",
      "col6    35.0\n",
      "dtype: float64\n"
     ]
    }
   ],
   "source": [
    "# calculate vector mean\n",
    "print(mean(dataset))"
   ]
  },
  {
   "cell_type": "code",
   "execution_count": 177,
   "metadata": {},
   "outputs": [
    {
     "name": "stdout",
     "output_type": "stream",
     "text": [
      "col1    35.0\n",
      "col2    35.0\n",
      "col3    35.0\n",
      "col4    35.0\n",
      "col5    35.0\n",
      "col6    35.0\n",
      "dtype: float64\n",
      "0    35.0\n",
      "1    35.0\n",
      "dtype: float64\n"
     ]
    }
   ],
   "source": [
    "# calculate matrix mean\n",
    "# col mean\n",
    "col_mean = mean(dataset, axis=0)\n",
    "print(col_mean)\n",
    "\n",
    "# row mean\n",
    "row_mean = mean(dataset, axis=1)\n",
    "print(row_mean)"
   ]
  },
  {
   "cell_type": "code",
   "execution_count": 178,
   "metadata": {},
   "outputs": [
    {
     "name": "stdout",
     "output_type": "stream",
     "text": [
      "350.0\n",
      "291.6666666666667\n",
      "col1    625.0\n",
      "col2    225.0\n",
      "col3     25.0\n",
      "col4     25.0\n",
      "col5    225.0\n",
      "col6    625.0\n",
      "dtype: float64\n",
      "0    291.666667\n",
      "1    291.666667\n",
      "dtype: float64\n"
     ]
    }
   ],
   "source": [
    "# vector variance - sample\n",
    "result = var(dataset.iloc[1], ddof=1)\n",
    "print(result)\n",
    "\n",
    "# vector variance - population\n",
    "result = var(dataset.iloc[1])\n",
    "print(result)\n",
    "\n",
    "# matrix variances\n",
    "# col variance\n",
    "col_var = var(dataset, axis=0)\n",
    "print(col_var)\n",
    "\n",
    "# row variance\n",
    "row_var = var(dataset, axis=1)\n",
    "print(row_var)"
   ]
  },
  {
   "cell_type": "code",
   "execution_count": 179,
   "metadata": {},
   "outputs": [
    {
     "name": "stdout",
     "output_type": "stream",
     "text": [
      "col1    25.0\n",
      "col2    15.0\n",
      "col3     5.0\n",
      "col4     5.0\n",
      "col5    15.0\n",
      "col6    25.0\n",
      "dtype: float64\n",
      "0    17.078251\n",
      "1    17.078251\n",
      "dtype: float64\n"
     ]
    }
   ],
   "source": [
    "# matrix std\n",
    "# col std\n",
    "col_std = std(dataset, axis=0)\n",
    "print(col_std)\n",
    "\n",
    "# row std\n",
    "row_std = std(dataset, axis=1)\n",
    "print(row_std)"
   ]
  },
  {
   "cell_type": "code",
   "execution_count": 183,
   "metadata": {},
   "outputs": [
    {
     "name": "stdout",
     "output_type": "stream",
     "text": [
      "-350.0\n",
      "-0.9999999999999998\n"
     ]
    }
   ],
   "source": [
    "# vector covariance\n",
    "X = dataset.iloc[0]\n",
    "y = dataset.iloc[1]\n",
    "\n",
    "Sigma = cov(X,y)[0,1]\n",
    "print(Sigma)\n",
    "\n",
    "# vector corelation\n",
    "Sigma = corrcoef(X,y)[0,1]\n",
    "print(Sigma)"
   ]
  },
  {
   "cell_type": "code",
   "execution_count": 185,
   "metadata": {},
   "outputs": [
    {
     "name": "stdout",
     "output_type": "stream",
     "text": [
      "[[ 1250.   750.   250.  -250.  -750. -1250.]\n",
      " [  750.   450.   150.  -150.  -450.  -750.]\n",
      " [  250.   150.    50.   -50.  -150.  -250.]\n",
      " [ -250.  -150.   -50.    50.   150.   250.]\n",
      " [ -750.  -450.  -150.   150.   450.   750.]\n",
      " [-1250.  -750.  -250.   250.   750.  1250.]]\n"
     ]
    }
   ],
   "source": [
    "# matrix covariance\n",
    "Sigma = cov(dataset.T)\n",
    "print(Sigma)"
   ]
  }
 ],
 "metadata": {
  "kernelspec": {
   "display_name": "Python 3",
   "language": "python",
   "name": "python3"
  },
  "language_info": {
   "codemirror_mode": {
    "name": "ipython",
    "version": 3
   },
   "file_extension": ".py",
   "mimetype": "text/x-python",
   "name": "python",
   "nbconvert_exporter": "python",
   "pygments_lexer": "ipython3",
   "version": "3.7.4"
  }
 },
 "nbformat": 4,
 "nbformat_minor": 2
}
