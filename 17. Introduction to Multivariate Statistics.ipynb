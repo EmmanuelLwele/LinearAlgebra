{
 "cells": [
  {
   "cell_type": "code",
   "execution_count": 3,
   "metadata": {},
   "outputs": [
    {
     "name": "stdout",
     "output_type": "stream",
     "text": [
      "[1 2 3 4 5 6]\n",
      "3.5\n"
     ]
    }
   ],
   "source": [
    "# vector mean\n",
    "from numpy import array\n",
    "from numpy import mean\n",
    "\n",
    "# define vector\n",
    "v = array([1,2,3,4,5,6])\n",
    "print(v)\n",
    "\n",
    "# calculate mean\n",
    "result = mean(v)\n",
    "print(result)"
   ]
  },
  {
   "cell_type": "code",
   "execution_count": 4,
   "metadata": {},
   "outputs": [
    {
     "name": "stdout",
     "output_type": "stream",
     "text": [
      "[[1 2 3 4 5 6]\n",
      " [1 2 3 4 5 6]]\n"
     ]
    }
   ],
   "source": [
    "# matrix means\n",
    "from numpy import array\n",
    "from numpy import mean\n",
    "\n",
    "# define matrix\n",
    "M = array([\n",
    "    [1,2,3,4,5,6],\n",
    "    [1,2,3,4,5,6]\n",
    "])\n",
    "print(M)\n",
    "\n",
    "# col means\n",
    "col_means = mean(M, axis=)"
   ]
  },
  {
   "cell_type": "code",
   "execution_count": null,
   "metadata": {},
   "outputs": [],
   "source": []
  }
 ],
 "metadata": {
  "kernelspec": {
   "display_name": "Python 3",
   "language": "python",
   "name": "python3"
  },
  "language_info": {
   "codemirror_mode": {
    "name": "ipython",
    "version": 3
   },
   "file_extension": ".py",
   "mimetype": "text/x-python",
   "name": "python",
   "nbconvert_exporter": "python",
   "pygments_lexer": "ipython3",
   "version": "3.7.4"
  }
 },
 "nbformat": 4,
 "nbformat_minor": 2
}
