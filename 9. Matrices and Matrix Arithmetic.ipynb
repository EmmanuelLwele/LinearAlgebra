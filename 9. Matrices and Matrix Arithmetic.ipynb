{
 "cells": [
  {
   "cell_type": "code",
   "execution_count": 7,
   "metadata": {},
   "outputs": [
    {
     "name": "stdout",
     "output_type": "stream",
     "text": [
      "[[1 2 3]\n",
      " [4 5 6]]\n",
      "[[1 2 3]\n",
      " [4 5 6]]\n",
      "[[1 2 3]\n",
      " [4 5 6]]\n",
      "[[ 2  4  6]\n",
      " [ 8 10 12]]\n"
     ]
    }
   ],
   "source": [
    "# 9.3 Defining a Matrix\n",
    "# create matrix\n",
    "from numpy import array\n",
    "A = array([[1,2,3],\n",
    "         [4,5,6]])\n",
    "print(A)\n",
    "\n",
    "# 9.4.1 Matrix Addition\n",
    "from numpy import array\n",
    "\n",
    "# define first matrix\n",
    "A = array([[1,2,3],\n",
    "           [4,5,6]])\n",
    "print(A)\n",
    "\n",
    "# define second matrix\n",
    "B = array([[1,2,3],\n",
    "         [4,5,6]])\n",
    "print(B)\n",
    "\n",
    "# add matrices\n",
    "C = A + B\n",
    "print(C)"
   ]
  },
  {
   "cell_type": "code",
   "execution_count": 9,
   "metadata": {},
   "outputs": [
    {
     "name": "stdout",
     "output_type": "stream",
     "text": [
      "[[0.5 1.5 2.5]\n",
      " [3.5 4.5 5.5]]\n"
     ]
    }
   ],
   "source": [
    "# 9.4.2 Matrix Subtraction\n",
    "from numpy import array\n",
    "\n",
    "# define first matrix\n",
    "A = array([[1,2,3],\n",
    "          [4,5,6]])\n",
    "\n",
    "# define second matrix\n",
    "B = array([[0.5,0.5,0.5],\n",
    "          [0.5,0.5,0.5]])\n",
    "\n",
    "# add matrices\n",
    "C = A - B\n",
    "print(C)"
   ]
  },
  {
   "cell_type": "code",
   "execution_count": 11,
   "metadata": {},
   "outputs": [
    {
     "name": "stdout",
     "output_type": "stream",
     "text": [
      "[[1 2 3]\n",
      " [4 5 6]]\n",
      "[[1 2 3]\n",
      " [4 5 6]]\n",
      "[[ 1  4  9]\n",
      " [16 25 36]]\n"
     ]
    }
   ],
   "source": [
    "# 9.4.3 Matrix Multiplication (Hadamard Product)\n",
    "# C = A ◦ B\n",
    "# matrix hadamard product\n",
    "from numpy import array\n",
    "\n",
    "# define first matrix\n",
    "A = array([[1,2,3],\n",
    "          [4,5,6]])\n",
    "print(A)\n",
    "\n",
    "# define second matrix\n",
    "B = array([[1,2,3],\n",
    "          [4,5,6]])\n",
    "print(B)\n",
    "\n",
    "# multiply matrices\n",
    "C = A * B\n",
    "print(C)"
   ]
  },
  {
   "cell_type": "code",
   "execution_count": 14,
   "metadata": {},
   "outputs": [
    {
     "name": "stdout",
     "output_type": "stream",
     "text": [
      "[[1 2 3]\n",
      " [4 5 6]]\n",
      "[[1 2 3]\n",
      " [4 5 6]]\n",
      "[[1. 1. 1.]\n",
      " [1. 1. 1.]]\n"
     ]
    }
   ],
   "source": [
    "# 9.4.4 Matrix Division\n",
    "# One matrix can be divided by another matrix with the same dimensions.\n",
    "# matrix division\n",
    "from numpy import array\n",
    "\n",
    "# define first matrix\n",
    "A = array([[1,2,3],\n",
    "          [4,5,6]])\n",
    "print(A)\n",
    "\n",
    "# define second matrix\n",
    "B = array([[1,2,3],\n",
    "          [4,5,6]])\n",
    "print(B)\n",
    "\n",
    "# divide matrices\n",
    "C = A / B\n",
    "print(C)"
   ]
  },
  {
   "cell_type": "code",
   "execution_count": 17,
   "metadata": {},
   "outputs": [
    {
     "name": "stdout",
     "output_type": "stream",
     "text": [
      "[[ 7 10]\n",
      " [15 22]\n",
      " [23 34]]\n",
      "[[ 7 10]\n",
      " [15 22]\n",
      " [23 34]]\n"
     ]
    }
   ],
   "source": [
    "# 9.5 Matrix-Matrix Multiplication\n",
    "# Matrix multiplication, also called the matrix dot product is more complicated than the previous\n",
    "# operations and involves a rule as not all matrices can be multiplied together.\n",
    "# C = A · B\n",
    "'''Matrix A has the dimensions m rows and n columns and matrix B has the\n",
    "dimensions n and k. The n columns in A and n rows in B are equal. The result is a new matrix\n",
    "with m rows and k columns.\n",
    "C(m, k) = A(m, n) · B(n, k)'''\n",
    "# matrix dot product\n",
    "from numpy import array\n",
    "\n",
    "# define first matrix\n",
    "A = array([[1,2],\n",
    "          [3,4],\n",
    "          [5,6]])\n",
    "\n",
    "# define second matrix\n",
    "B = array([[1,2],\n",
    "          [3,4]])\n",
    "\n",
    "# multiply matrices\n",
    "C = A.dot(B)\n",
    "print(C)\n",
    "\n",
    "# multiply matrices using @ operater (Python 3.5)\n",
    "D = A @ B\n",
    "print(D)"
   ]
  },
  {
   "cell_type": "code",
   "execution_count": 25,
   "metadata": {},
   "outputs": [
    {
     "name": "stdout",
     "output_type": "stream",
     "text": [
      "[[1 2]\n",
      " [3 4]\n",
      " [5 6]] \n",
      "\n",
      "[0.5 0.5] \n",
      "\n",
      "[1.5 3.5 5.5] 1col\n",
      "[1.5 3.5 5.5]\n"
     ]
    }
   ],
   "source": [
    "# 9.6 Matrix-Vector Multiplication\n",
    "'''A matrix and a vector can be multiplied together as long as the rule of matrix multiplication\n",
    "is observed. Specifically, that the number of columns in the matrix must equal the number of\n",
    "items in the vector. As with matrix multiplication, the operation can be written using the dot\n",
    "notation. Because the vector only has one column, the result is always a vector.'''\n",
    "# c = A · v\n",
    "# matrix-vector multiplication\n",
    "from numpy import array\n",
    "\n",
    "# define matrix\n",
    "A = array([[1,2],\n",
    "          [3,4],\n",
    "          [5,6]])\n",
    "print(A, '\\n')\n",
    "\n",
    "# define vector\n",
    "B = array([0.5,0.5])\n",
    "print(B, '\\n')\n",
    "\n",
    "# multiply\n",
    "C = A.dot(B)\n",
    "print(C, '1col')\n",
    "\n",
    "# multiply matrices using @ operater (Python 3.5)\n",
    "D = A @ B\n",
    "print(D)"
   ]
  },
  {
   "cell_type": "code",
   "execution_count": 28,
   "metadata": {},
   "outputs": [
    {
     "name": "stdout",
     "output_type": "stream",
     "text": [
      "[[1 2]\n",
      " [3 4]\n",
      " [5 6]]\n",
      "0.5\n",
      "[[0.5 1. ]\n",
      " [1.5 2. ]\n",
      " [2.5 3. ]]\n"
     ]
    }
   ],
   "source": [
    "# 9.7 Matrix-Scalar Multiplication\n",
    "# C = A · b\n",
    "from numpy import array\n",
    "\n",
    "# define matrix\n",
    "A = array([[1,2],[3,4], [5,6]])\n",
    "print(A)\n",
    "\n",
    "# define scalar \n",
    "b = 0.5\n",
    "print(b)\n",
    "\n",
    "# multiply\n",
    "C = A * b\n",
    "print(C)"
   ]
  },
  {
   "cell_type": "code",
   "execution_count": 39,
   "metadata": {},
   "outputs": [
    {
     "name": "stdout",
     "output_type": "stream",
     "text": [
      "[[11.11 22.22]\n",
      " [33.33 44.44]\n",
      " [55.55 66.66]]\n",
      "[[10.89 21.78]\n",
      " [32.67 43.56]\n",
      " [54.45 65.34]]\n",
      "[[ 1.21  4.84]\n",
      " [10.89 19.36]\n",
      " [30.25 43.56]]\n",
      "[[100. 100.]\n",
      " [100. 100.]\n",
      " [100. 100.]]\n",
      "[ 99 231 363]\n",
      "[[110000 220000]\n",
      " [330000 440000]\n",
      " [550000 660000]]\n"
     ]
    }
   ],
   "source": [
    "'''9.8 Extensions\n",
    "This section lists some ideas for extending the tutorial that you may wish to explore.\n",
    " Create one example using each operation using your own small array data.\n",
    " Implement each matrix arithmetic operation manually for matrices defined as lists of lists.\n",
    " Search machine learning papers and find 1 example of each operation being used.'''\n",
    "from numpy import array\n",
    "\n",
    "X = array([[11,22],\n",
    "         [33,44],\n",
    "         [55,66]])\n",
    "\n",
    "y = array([[0.11,0.22],\n",
    "         [0.33, 0.44],\n",
    "         [0.55, 0.66]])\n",
    "\n",
    "v = array([3,3])\n",
    "\n",
    "s = 10000\n",
    "\n",
    "# addition\n",
    "Z = X + y\n",
    "print(Z)\n",
    "\n",
    "# substraction \n",
    "A = X - y\n",
    "print(A)\n",
    "\n",
    "# multiplication # matrix hadamard product\n",
    "B = X * y\n",
    "print(B)\n",
    "\n",
    "# division\n",
    "C = X / y\n",
    "print(C)\n",
    "\n",
    "# matrix-vector multiplication \n",
    "D = X.dot(v)\n",
    "print(D)\n",
    "\n",
    "# matrix scalar multiplication\n",
    "E = X.dot(s)\n",
    "print(E)"
   ]
  }
 ],
 "metadata": {
  "kernelspec": {
   "display_name": "Python 3",
   "language": "python",
   "name": "python3"
  },
  "language_info": {
   "codemirror_mode": {
    "name": "ipython",
    "version": 3
   },
   "file_extension": ".py",
   "mimetype": "text/x-python",
   "name": "python",
   "nbconvert_exporter": "python",
   "pygments_lexer": "ipython3",
   "version": "3.7.4"
  }
 },
 "nbformat": 4,
 "nbformat_minor": 2
}
