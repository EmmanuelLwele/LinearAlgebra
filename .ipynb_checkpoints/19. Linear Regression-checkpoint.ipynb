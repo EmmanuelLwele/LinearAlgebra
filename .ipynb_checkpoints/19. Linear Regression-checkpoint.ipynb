{
 "cells": [
  {
   "cell_type": "code",
   "execution_count": 1,
   "metadata": {},
   "outputs": [
    {
     "name": "stdout",
     "output_type": "stream",
     "text": [
      "[[0.05 0.12]\n",
      " [0.18 0.22]\n",
      " [0.31 0.35]\n",
      " [0.42 0.38]\n",
      " [0.5  0.49]]\n"
     ]
    },
    {
     "data": {
      "text/plain": [
       "<Figure size 640x480 with 1 Axes>"
      ]
     },
     "metadata": {},
     "output_type": "display_data"
    }
   ],
   "source": [
    "# 19.4 Linear Regression Dataset\n",
    "from numpy import array\n",
    "from matplotlib import pyplot\n",
    "\n",
    "# define dataset\n",
    "dataset = array([\n",
    "    [0.05,0.12],\n",
    "    [0.18,0.22],\n",
    "    [0.31,0.35],\n",
    "    [0.42,0.38],\n",
    "    [0.5,0.49]\n",
    "])\n",
    "\n",
    "print(dataset)\n",
    "\n",
    "# split into inputs and outputs\n",
    "X, y = dataset[:,0], dataset[:,1]\n",
    "X = X.reshape((len(X), 1))\n",
    "\n",
    "# scatter plot\n",
    "pyplot.scatter(X,y)\n",
    "pyplot.show()"
   ]
  },
  {
   "cell_type": "code",
   "execution_count": 2,
   "metadata": {},
   "outputs": [
    {
     "name": "stdout",
     "output_type": "stream",
     "text": [
      "[1.00233226]\n"
     ]
    },
    {
     "data": {
      "text/plain": [
       "<function matplotlib.pyplot.show(*args, **kw)>"
      ]
     },
     "execution_count": 2,
     "metadata": {},
     "output_type": "execute_result"
    },
    {
     "data": {
      "image/png": "[encoded data removed]",
      "text/plain": [
       "<Figure size 432x288 with 1 Axes>"
      ]
     },
     "metadata": {
      "needs_background": "light"
     },
     "output_type": "display_data"
    }
   ],
   "source": [
    "# direct solution to linear least squares\n",
    "from numpy import array\n",
    "from numpy.linalg import inv\n",
    "from matplotlib import pyplot\n",
    "\n",
    "# define dataset\n",
    "dataset = array([\n",
    "    [0.05,0.12],\n",
    "    [0.18,0.22],\n",
    "    [0.31,0.35],\n",
    "    [0.42,0.38],\n",
    "    [0.5,0.49]\n",
    "])\n",
    "\n",
    "# split into inputs and outputs\n",
    "X, y = dataset[:,0], dataset[:,1]\n",
    "X = X.reshape((len(X), 1))\n",
    "\n",
    "# linear least squares\n",
    "b = inv(X.T.dot(X)).dot(X.T).dot(y)\n",
    "print(b)\n",
    "\n",
    "# predict using coefficients\n",
    "yhat = X.dot(b)\n",
    "\n",
    "# plot data and predictions\n",
    "pyplot.scatter(X,y)\n",
    "pyplot.plot(X, yhat, color='red')\n",
    "pyplot.show"
   ]
  },
  {
   "cell_type": "code",
   "execution_count": 3,
   "metadata": {},
   "outputs": [
    {
     "name": "stdout",
     "output_type": "stream",
     "text": [
      "[1.00233226]\n"
     ]
    },
    {
     "data": {
      "image/png": "[encoded data removed]",
      "text/plain": [
       "<Figure size 432x288 with 1 Axes>"
      ]
     },
     "metadata": {
      "needs_background": "light"
     },
     "output_type": "display_data"
    }
   ],
   "source": [
    "# QR decomposition solution to linear least squares\n",
    "'''The QR decomposition approach is more computationally efficient and more numerically\n",
    "stable than calculating the normal equation directly, but does not work for all data matrices.'''\n",
    "from numpy import array\n",
    "from numpy.linalg import inv\n",
    "from numpy.linalg import qr\n",
    "from matplotlib import pyplot\n",
    "\n",
    "# define dataset\n",
    "dataset = array([\n",
    "    [0.05,0.12],\n",
    "    [0.18,0.22],\n",
    "    [0.31,0.35],\n",
    "    [0.42,0.38],\n",
    "    [0.5,0.49]\n",
    "])\n",
    "\n",
    "# split into input and output\n",
    "X, y = dataset[:,0], dataset[:,1]\n",
    "X = X.reshape((len(X),1))\n",
    "\n",
    "# factorize\n",
    "Q, R = qr(X)\n",
    "b = inv(R).dot(Q.T).dot(y)\n",
    "print(b)\n",
    "\n",
    "# predict using coefficients\n",
    "yhat = X.dot(b)\n",
    "\n",
    "# plot data and predictions\n",
    "pyplot.scatter(X,y)\n",
    "pyplot.plot(X, yhat, color='red')\n",
    "pyplot.show()"
   ]
  },
  {
   "cell_type": "code",
   "execution_count": 4,
   "metadata": {},
   "outputs": [
    {
     "name": "stdout",
     "output_type": "stream",
     "text": [
      "[1.00233226]\n"
     ]
    },
    {
     "data": {
      "image/png": "[encoded data removed]",
      "text/plain": [
       "<Figure size 432x288 with 1 Axes>"
      ]
     },
     "metadata": {
      "needs_background": "light"
     },
     "output_type": "display_data"
    }
   ],
   "source": [
    "# SVD solution via psuedoinverse to linear least squares\n",
    "\n",
    "'''The pseudoinverse via SVD approach to solving linear least squares is the de facto standard\n",
    "'''\n",
    "from numpy import array\n",
    "from numpy.linalg import pinv\n",
    "from matplotlib import pyplot\n",
    "\n",
    "# define dataset\n",
    "dataset = array([\n",
    "    [0.05,0.12],\n",
    "    [0.18,0.22],\n",
    "    [0.31,0.35],\n",
    "    [0.42,0.38],\n",
    "    [0.5,0.49]\n",
    "])\n",
    "\n",
    "# split into inputs and outputs\n",
    "X, y = dataset[:, 0], dataset[:, 1]\n",
    "X = X.reshape((len(X),1))\n",
    "\n",
    "# calculate coefficients\n",
    "b = pinv(X).dot(y)\n",
    "print(b)\n",
    "\n",
    "# predict using coefficients\n",
    "yhat = X.dot(b)\n",
    "\n",
    "# plot data and predictions\n",
    "pyplot.scatter(X, y)\n",
    "pyplot.plot(X, yhat, color='red')\n",
    "pyplot.show()"
   ]
  },
  {
   "cell_type": "code",
   "execution_count": 5,
   "metadata": {},
   "outputs": [
    {
     "name": "stdout",
     "output_type": "stream",
     "text": [
      "5\n",
      "[1.00233226]\n"
     ]
    },
    {
     "data": {
      "image/png": "[encoded data removed]",
      "text/plain": [
       "<Figure size 432x288 with 1 Axes>"
      ]
     },
     "metadata": {
      "needs_background": "light"
     },
     "output_type": "display_data"
    }
   ],
   "source": [
    "# least squares via convenience function\n",
    "from numpy import array\n",
    "from numpy.linalg import lstsq\n",
    "from matplotlib import pyplot\n",
    "\n",
    "# define dataset\n",
    "dataset = array([\n",
    "    [0.05,0.12],\n",
    "    [0.18,0.22],\n",
    "    [0.31,0.35],\n",
    "    [0.42,0.38],\n",
    "    [0.5,0.49]\n",
    "])\n",
    "\n",
    "# split into inputs and outputs\n",
    "X, y = dataset[:,0], dataset[:,1]\n",
    "X = X.reshape((len(X), 1))\n",
    "print(len(X))\n",
    "# calculate coefficients\n",
    "b, residuals, rank, s = lstsq(X, y, rcond=-1)\n",
    "print(b)\n",
    "\n",
    "# predict using coefficients\n",
    "yhat = X.dot(b)\n",
    "\n",
    "# plot data and predictions\n",
    "pyplot.scatter(X, y)\n",
    "pyplot.plot(X, yhat, color='red')\n",
    "pyplot.show()"
   ]
  },
  {
   "cell_type": "code",
   "execution_count": 6,
   "metadata": {},
   "outputs": [
    {
     "data": {
      "text/plain": [
       "<function matplotlib.pyplot.show(*args, **kw)>"
      ]
     },
     "execution_count": 6,
     "metadata": {},
     "output_type": "execute_result"
    },
    {
     "data": {
      "image/png": "[encoded data removed]",
      "text/plain": [
       "<Figure size 432x288 with 1 Axes>"
      ]
     },
     "metadata": {
      "needs_background": "light"
     },
     "output_type": "display_data"
    }
   ],
   "source": [
    "from pandas import read_csv\n",
    "import numpy as np\n",
    "'''\n",
    "19.9 Extensions\n",
    "This section lists some ideas for extending the tutorial that you may wish to explore.\n",
    " Test each linear regression on your own small contrived dataset.\n",
    " Load a tabular dataset and test each linear regression method and compare the results.\n",
    " Research and implement alternate ways of solving linear least squares using linear algebra.\n",
    "'''\n",
    "\n",
    "url = 'https://raw.githubusercontent.com/Savinda/datasets/master/datasets/auto-insurance.csv'\n",
    "names = ['number of claims', 'total payment for all the claims in thousands of Swedish Kronor']\n",
    "dataset = read_csv(url, names = names)\n",
    "dataset.head()\n",
    "\n",
    "# split into inputs and outputs\n",
    "X, y = dataset['number of claims'], dataset['total payment for all the claims in thousands of Swedish Kronor']\n",
    "X = X.values.reshape((len(X),1))\n",
    "\n",
    "# scatter plot\n",
    "pyplot.scatter(X, y)\n",
    "pyplot.show"
   ]
  },
  {
   "cell_type": "code",
   "execution_count": 7,
   "metadata": {},
   "outputs": [
    {
     "name": "stdout",
     "output_type": "stream",
     "text": [
      "[3.84534632]\n"
     ]
    },
    {
     "data": {
      "image/png": "[encoded data removed]",
      "text/plain": [
       "<Figure size 432x288 with 1 Axes>"
      ]
     },
     "metadata": {
      "needs_background": "light"
     },
     "output_type": "display_data"
    }
   ],
   "source": [
    "# direct solution to linear least squares\n",
    "b1 = inv(X.T.dot(X)).dot(X.T).dot(y)\n",
    "print(b1)\n",
    "\n",
    "# predict using coefficients\n",
    "yhat = X.dot(b1)\n",
    "\n",
    "# plot data and predictions\n",
    "pyplot.scatter(X, y)\n",
    "pyplot.plot(X, yhat, color='red')\n",
    "pyplot.show()"
   ]
  },
  {
   "cell_type": "code",
   "execution_count": 11,
   "metadata": {},
   "outputs": [
    {
     "name": "stdout",
     "output_type": "stream",
     "text": [
      "[3.84534632]\n"
     ]
    }
   ],
   "source": [
    "# QR decomposition\n",
    "\n",
    "# factorize\n",
    "Q, R = qr(X)\n",
    "b = inv(R).dot(Q.T).dot(y)\n",
    "print(b)"
   ]
  },
  {
   "cell_type": "code",
   "execution_count": 12,
   "metadata": {},
   "outputs": [
    {
     "name": "stdout",
     "output_type": "stream",
     "text": [
      "[3.84534632]\n"
     ]
    }
   ],
   "source": [
    "# SVD solution via psuedoinverse to linear least squares\n",
    "b = pinv(X).dot(y)\n",
    "print(b)"
   ]
  },
  {
   "cell_type": "code",
   "execution_count": 13,
   "metadata": {},
   "outputs": [
    {
     "name": "stdout",
     "output_type": "stream",
     "text": [
      "[3.84534632]\n"
     ]
    }
   ],
   "source": [
    "# least squares via convenience function\n",
    "b, residuals, rank, s = lstsq(X, y, rcond=None)\n",
    "print(b)"
   ]
  }
 ],
 "metadata": {
  "kernelspec": {
   "display_name": "Python 3",
   "language": "python",
   "name": "python3"
  },
  "language_info": {
   "codemirror_mode": {
    "name": "ipython",
    "version": 3
   },
   "file_extension": ".py",
   "mimetype": "text/x-python",
   "name": "python",
   "nbconvert_exporter": "python",
   "pygments_lexer": "ipython3",
   "version": "3.7.4"
  }
 },
 "nbformat": 4,
 "nbformat_minor": 2
}
