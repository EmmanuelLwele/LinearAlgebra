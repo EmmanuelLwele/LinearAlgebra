{
 "cells": [
  {
   "cell_type": "code",
   "execution_count": 8,
   "metadata": {},
   "outputs": [
    {
     "name": "stdout",
     "output_type": "stream",
     "text": [
      "[1 2 3]\n",
      "6.0\n",
      "[1 2 3]\n",
      "3.7416573867739413\n",
      "[1 2 3]\n",
      "3.0\n"
     ]
    }
   ],
   "source": [
    "# 8.3 Vector L1 Norm L1(V) = ||v||1 => Manhattan norm\n",
    "# ||v||1 = |a1| + |a2| + |a3|  => Manhattan distance from the origin of the vector space\n",
    "# vector L1 norm\n",
    "'''The L1 norm is often used when fitting machine learning algorithms as a regularization\n",
    "method, e.g. a method to keep the coefficients of the model small, and in turn, the model less\n",
    "complex.'''\n",
    "from numpy import array\n",
    "from numpy.linalg import norm\n",
    "\n",
    "# define vector\n",
    "a = array([1,2,3])\n",
    "print(a)\n",
    "\n",
    "# calculate L1 norm\n",
    "l1 = norm(a,1)\n",
    "print(l1)\n",
    "\n",
    "# 8.4 Vector L2 Norm\n",
    "# L2(v) = ||v||2\n",
    "# The L2 norm is calculated as\n",
    "# the square root of the sum of the squared vector values.\n",
    "# vector L2 norm\n",
    "'''By far, the L2 norm is more commonly used than other vector norms in machine learning.'''\n",
    "from numpy import array\n",
    "from numpy.linalg import norm\n",
    "\n",
    "# define vector\n",
    "a = array([1,2,3])\n",
    "print(a)\n",
    "\n",
    "# calculate L2 norm = sqrt[|a1| + |a2| + |a3| ]\n",
    "l2 = norm(a) # => L2 norm can caluclate using default parameters\n",
    "print(l2)\n",
    "\n",
    "# 8.5 Vector Max Norm\n",
    "# The max norm is calculated as returning the maximum value of the vector, hence the name.\n",
    "'''Max norm is also used as a regularization in machine learning, such as on neural network\n",
    "weights, called max norm regularization.'''\n",
    "from math import inf\n",
    "from numpy import array\n",
    "from numpy.linalg import norm\n",
    "\n",
    "# define vector\n",
    "a = array([1,2,3])\n",
    "print(a)\n",
    "maxnorm = norm(a, inf) # => pass inf parameter to get maximum value of the vector\n",
    "print(maxnorm)"
   ]
  },
  {
   "cell_type": "code",
   "execution_count": 12,
   "metadata": {},
   "outputs": [
    {
     "name": "stdout",
     "output_type": "stream",
     "text": [
      "[ 6 12 18 24 30]\n",
      "90.0 \n",
      " 44.49719092257398 \n",
      " 30.0\n"
     ]
    }
   ],
   "source": [
    "'''8.6 Extensions\n",
    "This section lists some ideas for extending the tutorial that you may wish to explore.\n",
    " Create one example using each operation using your own small array data.\n",
    " Implement each operation manually for vectors defined as lists of lists.\n",
    " Search machine learning papers and find 1 example of each operation being used.'''\n",
    "X = array([6,12,18,24,30])\n",
    "print(X)\n",
    "\n",
    "l1 = norm(X, 1)\n",
    "l2 = norm(X)\n",
    "maxnorm = norm(X, inf)\n",
    "# L1 norm\n",
    "print(l1,'\\n',l2,'\\n',maxnorm)\n",
    "\n",
    "# Search machine learning papers and find 1 example of each operation being used.\n",
    "# https://towardsdatascience.com/l1-and-l2-regularization-methods-ce25e7fc831c\n",
    "# A regression model that uses L1 regularization technique is called Lasso Regression \n",
    "# and model which uses L2 is called Ridge Regression.\n",
    "'''Ridge regression adds “squared magnitude” of coefficient as penalty term to the loss function.\n",
    "Lasso Regression (Least Absolute Shrinkage and Selection Operator) adds “absolute value of magnitude” \n",
    "of coefficient as penalty term to the loss function.'''"
   ]
  }
 ],
 "metadata": {
  "kernelspec": {
   "display_name": "Python 3",
   "language": "python",
   "name": "python3"
  },
  "language_info": {
   "codemirror_mode": {
    "name": "ipython",
    "version": 3
   },
   "file_extension": ".py",
   "mimetype": "text/x-python",
   "name": "python",
   "nbconvert_exporter": "python",
   "pygments_lexer": "ipython3",
   "version": "3.7.4"
  }
 },
 "nbformat": 4,
 "nbformat_minor": 2
}
