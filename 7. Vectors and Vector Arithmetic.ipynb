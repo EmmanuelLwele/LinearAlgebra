{
 "cells": [
  {
   "cell_type": "code",
   "execution_count": 1,
   "metadata": {},
   "outputs": [
    {
     "name": "stdout",
     "output_type": "stream",
     "text": [
      "[1 2 3]\n"
     ]
    }
   ],
   "source": [
    "# 7.3 Defining a Vector\n",
    "# create a vector\n",
    "from numpy import array\n",
    "\n",
    "# define a vector\n",
    "v = array([1,2,3])\n",
    "print(v)"
   ]
  },
  {
   "cell_type": "code",
   "execution_count": 2,
   "metadata": {},
   "outputs": [
    {
     "name": "stdout",
     "output_type": "stream",
     "text": [
      "[1 2 3]\n",
      "[1 2 3]\n",
      "[2 4 6]\n"
     ]
    }
   ],
   "source": [
    "# 7.4.1 Vector Addition\n",
    "from numpy import array\n",
    "\n",
    "# define first vector\n",
    "a = array([1,2,3])\n",
    "print(a)\n",
    "\n",
    "# define second vector\n",
    "b = array([1,2,3])\n",
    "print(b)\n",
    "\n",
    "# add vectors\n",
    "c = a + b\n",
    "print(c)"
   ]
  },
  {
   "cell_type": "code",
   "execution_count": 5,
   "metadata": {},
   "outputs": [
    {
     "name": "stdout",
     "output_type": "stream",
     "text": [
      "[1 2 3]\n",
      "[0.5 0.5 0.5]\n",
      "[0.5 1.5 2.5]\n",
      "[-0.5 -1.5 -2.5]\n"
     ]
    }
   ],
   "source": [
    "# 7.4.2 Vector Subtraction\n",
    "from numpy import array\n",
    "\n",
    "# define first vector\n",
    "a = array([1,2,3])\n",
    "print(a)\n",
    "\n",
    "# define second vector\n",
    "b = array ([0.5,0.5,0.5])\n",
    "print(b)\n",
    "\n",
    "# substraction\n",
    "c = a - b\n",
    "d = b - a\n",
    "\n",
    "print(c)\n",
    "print(d)"
   ]
  },
  {
   "cell_type": "code",
   "execution_count": 9,
   "metadata": {},
   "outputs": [
    {
     "name": "stdout",
     "output_type": "stream",
     "text": [
      "[1 2 3]\n",
      "[1 2 3]\n",
      "[1 4 9]\n",
      "[ 1  4 27]\n"
     ]
    }
   ],
   "source": [
    "# 7.4.3 Vector Multiplication\n",
    "from numpy import array\n",
    "\n",
    "# define first vector\n",
    "a = array([1,2,3])\n",
    "print(a)\n",
    "\n",
    "# define second vector\n",
    "b = array([1,2,3])\n",
    "print(b)\n",
    "\n",
    "# multiply vectors\n",
    "c = a * b\n",
    "d = a ** b\n",
    "print(c)\n",
    "print(d)"
   ]
  },
  {
   "cell_type": "code",
   "execution_count": 14,
   "metadata": {},
   "outputs": [
    {
     "name": "stdout",
     "output_type": "stream",
     "text": [
      "[1 2 3]\n",
      "[1. 1. 1.]\n",
      "[ 2  8 12]\n"
     ]
    }
   ],
   "source": [
    "# 7.4.4 Vector Division\n",
    "from numpy import array\n",
    "\n",
    "# define first vector\n",
    "a = array([1,2,3])\n",
    "print(a)\n",
    "\n",
    "# define second vector\n",
    "b = array([1,2,3])\n",
    "\n",
    "d = array([4,16,25])\n",
    "e = array([2,2,2]) # returns int\n",
    "\n",
    "# division\n",
    "c = a/b\n",
    "f = d//e\n",
    "print(c)\n",
    "print(f)"
   ]
  },
  {
   "cell_type": "code",
   "execution_count": 19,
   "metadata": {},
   "outputs": [
    {
     "name": "stdout",
     "output_type": "stream",
     "text": [
      "[1 2 3]\n",
      "[1 2 3]\n",
      "14\n"
     ]
    }
   ],
   "source": [
    "# 7.5 Vector Dot Product\n",
    "from numpy import array\n",
    "\n",
    "# define first vector\n",
    "a = array([1,2,3])\n",
    "print(a)\n",
    "\n",
    "# define second vector\n",
    "b = array([1,2,3])\n",
    "print(b)\n",
    "\n",
    "# multiply vectors\n",
    "c = a.dot(b)\n",
    "print(c)"
   ]
  },
  {
   "cell_type": "code",
   "execution_count": 23,
   "metadata": {},
   "outputs": [
    {
     "name": "stdout",
     "output_type": "stream",
     "text": [
      "[1 2 3]\n",
      "[0.5 1.  1.5]\n",
      "[0.5        0.25       0.16666667]\n",
      "[1.5 2.5 3.5]\n",
      "[-0.5 -1.5 -2.5]\n",
      "[0.5   0.25  0.125]\n",
      "[0. 0. 0.]\n",
      "[0.5 0.5 0.5]\n"
     ]
    }
   ],
   "source": [
    "# 7.6 Vector-Scalar Multiplication\n",
    "from numpy import array\n",
    "\n",
    "# define vector\n",
    "a = array([1,2,3])\n",
    "print(a)\n",
    "\n",
    "# define scalar\n",
    "s = 0.5\n",
    "\n",
    "c = s * a\n",
    "d = s / a\n",
    "e = s + a\n",
    "f = s - a\n",
    "g = s ** a\n",
    "h = s // a\n",
    "i = s % a\n",
    "print(c)\n",
    "print(d)\n",
    "print(e)\n",
    "print(f)\n",
    "print(g)\n",
    "print(h)\n",
    "print(i)"
   ]
  },
  {
   "cell_type": "code",
   "execution_count": 27,
   "metadata": {},
   "outputs": [
    {
     "name": "stdout",
     "output_type": "stream",
     "text": [
      "[100.01 100.02 100.03 100.04 100.05] \n",
      " [99.99 99.98 99.97 99.96 99.95] \n",
      " [1. 2. 3. 4. 5.] \n",
      " [0.0001 0.0002 0.0003 0.0004 0.0005]\n"
     ]
    }
   ],
   "source": [
    "'''7.7 Extensions\n",
    "This section lists some ideas for extending the tutorial that you may wish to explore.\n",
    " Create one example using each operation using your own small array data.\n",
    " Implement each vector arithmetic operation manually for vectors defined as lists.\n",
    " Search machine learning papers and find 1 example of each operation being used.\n",
    "If you explore any of these extensions, I’d love to know.'''\n",
    "\n",
    "from numpy import array\n",
    "X = array([0.01,0.02,0.03,0.04,0.05])\n",
    "s = 100\n",
    "\n",
    "print(X + s, '\\n', s - X, '\\n', X * s, '\\n', X / s)\n",
    "\n",
    "#  Search machine learning papers and find 1 example of each operation being used.\n",
    "# All the operations use in ML algorithms such as Random Forest, kNN, Naive Bayes' and mostly SVM "
   ]
  }
 ],
 "metadata": {
  "kernelspec": {
   "display_name": "Python 3",
   "language": "python",
   "name": "python3"
  },
  "language_info": {
   "codemirror_mode": {
    "name": "ipython",
    "version": 3
   },
   "file_extension": ".py",
   "mimetype": "text/x-python",
   "name": "python",
   "nbconvert_exporter": "python",
   "pygments_lexer": "ipython3",
   "version": "3.7.4"
  }
 },
 "nbformat": 4,
 "nbformat_minor": 2
}
