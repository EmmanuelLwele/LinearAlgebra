{
 "cells": [
  {
   "cell_type": "code",
   "execution_count": 1,
   "metadata": {},
   "outputs": [],
   "source": [
    "# 16.2 What is the Singular-Value Decomposition\n",
    "# The Singular-Value Decomposition, or SVD for short, is a matrix decomposition method for\n",
    "# reducing a matrix to its constituent parts in order to make certain subsequent matrix calculations\n",
    "# simpler. For the case of simplicity we will focus on the SVD for real-valued matrices and ignore\n",
    "# the case for complex numbers.\n",
    "# A = U · Σ · V^T"
   ]
  },
  {
   "cell_type": "code",
   "execution_count": 3,
   "metadata": {},
   "outputs": [
    {
     "name": "stdout",
     "output_type": "stream",
     "text": [
      "[[1 2]\n",
      " [3 4]\n",
      " [5 6]]\n",
      "[[-0.2298477   0.88346102  0.40824829]\n",
      " [-0.52474482  0.24078249 -0.81649658]\n",
      " [-0.81964194 -0.40189603  0.40824829]]\n",
      "[9.52551809 0.51430058]\n",
      "[[-0.61962948 -0.78489445]\n",
      " [-0.78489445  0.61962948]]\n"
     ]
    }
   ],
   "source": [
    "# singular-value decomposition\n",
    "from numpy import array\n",
    "from numpy.linalg import svd\n",
    "\n",
    "# define a matrix\n",
    "A = array([\n",
    "    [1,2],\n",
    "    [3,4],\n",
    "    [5,6]\n",
    "])\n",
    "print(A)\n",
    "\n",
    "# factorize\n",
    "U, s, V = svd(A)\n",
    "print(U)\n",
    "print(s)\n",
    "print(V)"
   ]
  },
  {
   "cell_type": "code",
   "execution_count": 10,
   "metadata": {},
   "outputs": [
    {
     "name": "stdout",
     "output_type": "stream",
     "text": [
      "[[1 2]\n",
      " [3 4]\n",
      " [5 6]]\n",
      "\n",
      " [[1. 2.]\n",
      " [3. 4.]\n",
      " [5. 6.]]\n"
     ]
    }
   ],
   "source": [
    "# U(m × m) · Σ(m × m) · V^T(n × n)\n",
    "# reconstruct regular matrix from svd\n",
    "from numpy import array\n",
    "from numpy import diag\n",
    "from numpy import zeros\n",
    "from scipy.linalg import svd\n",
    "\n",
    "# define a matrix\n",
    "A = array([\n",
    "    [1,2],\n",
    "    [3,4],\n",
    "    [5,6]])\n",
    "print(A)\n",
    "\n",
    "# factorize\n",
    "U, s, V = svd(A)\n",
    "\n",
    "# create m x n Sigma matrix\n",
    "Sigma = zeros((A.shape[0], A.shape[1]))\n",
    "# print(Sigma)\n",
    "# polpulate Sigma with n x n diagonal matrix\n",
    "Sigma[:A.shape[1], :A.shape[1]] = diag(s)\n",
    "\n",
    "# reconstruct matrix\n",
    "B = U.dot(Sigma.dot(V))\n",
    "print('\\n',B)"
   ]
  },
  {
   "cell_type": "code",
   "execution_count": 11,
   "metadata": {},
   "outputs": [
    {
     "data": {
      "text/plain": [
       "'The above complication with the Σ diagonal only exists with the case where m and n are\\nnot equal. The diagonal matrix can be used directly when reconstructing a square matrix, as\\nfollows.'"
      ]
     },
     "execution_count": 11,
     "metadata": {},
     "output_type": "execute_result"
    }
   ],
   "source": [
    "'''The above complication with the Σ diagonal only exists with the case where m and n are\n",
    "not equal. The diagonal matrix can be used directly when reconstructing a square matrix, as\n",
    "follows.'''"
   ]
  },
  {
   "cell_type": "code",
   "execution_count": 14,
   "metadata": {},
   "outputs": [
    {
     "name": "stdout",
     "output_type": "stream",
     "text": [
      "[[1 2 3]\n",
      " [4 5 6]\n",
      " [7 8 9]]\n",
      "[[1. 2. 3.]\n",
      " [4. 5. 6.]\n",
      " [7. 8. 9.]]\n"
     ]
    }
   ],
   "source": [
    "# reconstruct square matrix from svd\n",
    "from numpy import array\n",
    "from numpy import diag\n",
    "from scipy.linalg import svd\n",
    "\n",
    "# define matrix\n",
    "A = array([\n",
    "    [1,2,3],\n",
    "    [4,5,6],\n",
    "    [7,8,9]\n",
    "])\n",
    "print(A)\n",
    "\n",
    "# factorize\n",
    "U, s, V = svd(A)\n",
    "\n",
    "# create n x n sigma matrix\n",
    "Sigma = diag(s)\n",
    "\n",
    "# reconstruct matrix\n",
    "B = U.dot(Sigma.dot(V))\n",
    "print(B)"
   ]
  },
  {
   "cell_type": "code",
   "execution_count": 16,
   "metadata": {},
   "outputs": [
    {
     "name": "stdout",
     "output_type": "stream",
     "text": [
      "[[0.1 0.2]\n",
      " [0.3 0.4]\n",
      " [0.5 0.6]\n",
      " [0.7 0.8]]\n",
      "[[-1.00000000e+01 -5.00000000e+00  1.31262171e-14  5.00000000e+00]\n",
      " [ 8.50000000e+00  4.50000000e+00  5.00000000e-01 -3.50000000e+00]]\n"
     ]
    }
   ],
   "source": [
    "# The pseudoinverse is denoted as A+, where A is the matrix that is being inverted and + is a\n",
    "# superscript. The pseudoinverse is calculated using the singular value decomposition of A:\n",
    "# A^+ = V · D^+ · U^T\n",
    "\n",
    "# Where A+ is the pseudoinverse, D+ is the pseudoinverse of the diagonal matrix Σ and V\n",
    "# T  is the transpose of V T. We can get U and V from the SVD operation.\n",
    "# A = U · Σ · V^T\n",
    "\n",
    "# pseudoinverse\n",
    "from numpy import array\n",
    "from scipy.linalg import pinv\n",
    "\n",
    "# define array\n",
    "A = array([\n",
    "    [0.1,0.2],\n",
    "    [0.3,0.4],\n",
    "    [0.5,0.6],\n",
    "    [0.7,0.8]\n",
    "])\n",
    "print(A)\n",
    "\n",
    "# calculate pseudoinverse\n",
    "B = pinv(A)\n",
    "print(B)"
   ]
  },
  {
   "cell_type": "code",
   "execution_count": 19,
   "metadata": {},
   "outputs": [
    {
     "name": "stdout",
     "output_type": "stream",
     "text": [
      "[[0.1 0.2]\n",
      " [0.3 0.4]\n",
      " [0.5 0.6]\n",
      " [0.7 0.8]]\n",
      "[[-1.00000000e+01 -5.00000000e+00  1.28508315e-14  5.00000000e+00]\n",
      " [ 8.50000000e+00  4.50000000e+00  5.00000000e-01 -3.50000000e+00]]\n"
     ]
    }
   ],
   "source": [
    "'''We can calculate the pseudoinverse manually via the SVD and compare the results to the\n",
    "pinv() function. First we must calculate the SVD. Next we must calculate the reciprocal of\n",
    "each value in the s array. Then the s array can be transformed into a diagonal matrix with an\n",
    "added row of zeros to make it rectangular. Finally, we can calculate the pseudoinverse from the\n",
    "elements. The specific implementation is:\n",
    "A^+ = V^T · D^T · U^T'''\n",
    "\n",
    "# pseudoinverse via SVD\n",
    "from numpy import array \n",
    "from numpy.linalg import svd\n",
    "from numpy import zeros\n",
    "from numpy import diag\n",
    "\n",
    "# define matrix\n",
    "A = array([\n",
    "    [0.1,0.2],\n",
    "    [0.3,0.4],\n",
    "    [0.5,0.6],\n",
    "    [0.7,0.8]\n",
    "])\n",
    "print(A)\n",
    "\n",
    "# factorize\n",
    "U, s, V = svd(A)\n",
    "\n",
    "# reciporcals of s\n",
    "d = 1.0 / s\n",
    "\n",
    "# create m x n D matrix\n",
    "D = zeros(A.shape)\n",
    "\n",
    "# populate D with n x n diagonal matrix\n",
    "D[:A.shape[1], :A.shape[1]] =  diag(d)\n",
    "\n",
    "# calculate pseudoinverse\n",
    "B = V.T.dot(D.T).dot(U.T)\n",
    "print(B)"
   ]
  },
  {
   "cell_type": "code",
   "execution_count": null,
   "metadata": {},
   "outputs": [],
   "source": []
  }
 ],
 "metadata": {
  "kernelspec": {
   "display_name": "Python 3",
   "language": "python",
   "name": "python3"
  },
  "language_info": {
   "codemirror_mode": {
    "name": "ipython",
    "version": 3
   },
   "file_extension": ".py",
   "mimetype": "text/x-python",
   "name": "python",
   "nbconvert_exporter": "python",
   "pygments_lexer": "ipython3",
   "version": "3.7.4"
  }
 },
 "nbformat": 4,
 "nbformat_minor": 2
}
